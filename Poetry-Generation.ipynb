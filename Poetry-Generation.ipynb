{
 "cells": [
  {
   "cell_type": "markdown",
   "id": "bb4a315f",
   "metadata": {},
   "source": [
    "# Maheen Shoukat\n",
    "## i212719 - BAI-6J\n",
    "### NLP A2 TASK2"
   ]
  },
  {
   "cell_type": "code",
   "execution_count": 1,
   "id": "aea49c3f",
   "metadata": {},
   "outputs": [],
   "source": [
    "# Load the Poetry Corpus\n",
    "# Tokenize the corpus in order to split it into a list of words\n",
    "# Generate n-gram models\n",
    "# For each of the stanzas\n",
    "    # For each verse\n",
    "        # Generate a random number in the range [7...10]\n",
    "        # Select first word\n",
    "        # Select subsequent words until end of verse\n",
    "        #[bonus]If not the first verse, try to rhyme the last word with the last word of the previous verse\n",
    "        # Print verse\n",
    "# Print empty line after stanza"
   ]
  },
  {
   "cell_type": "code",
   "execution_count": 2,
   "id": "48c37961",
   "metadata": {},
   "outputs": [],
   "source": [
    "# txt processing -> spacy\n",
    "# n-grams \n",
    "# to generate : task -> 4 stanzas, each verse 7-10 words"
   ]
  },
  {
   "cell_type": "code",
   "execution_count": 3,
   "id": "caeaf868",
   "metadata": {},
   "outputs": [],
   "source": [
    "# subsequent words -> cfd -> likelihood of next word\n",
    "# Rhyming verses -> your dictionary for rhyming\n",
    "\n",
    "# 1) unigram model\n",
    "# 2) bigram model -> Select the first word of each line randomly from starting words in the vocabulary\n",
    "#     and then use the bigram model to generate the next word until the verse is complete.\n",
    "# 3) trigram model -> Select the first word of each line randomly from starting words in the vocabulary\n",
    "#     and then use the trigram model to generate the next word until the verse is complete.\n",
    "# 4) compare bigram and trigram performance. -> make 4 stanzas rhyme\n",
    "\n",
    "# 5) backward bigram model -> model the generation of a sentence from right to left.\n",
    "# 6) compare backward bigram model with other ngram models\n",
    "\n",
    "# 7) bidirectional bigram model -> merge fwd and backward"
   ]
  },
  {
   "cell_type": "code",
   "execution_count": 4,
   "id": "30c2645a",
   "metadata": {},
   "outputs": [
    {
     "name": "stderr",
     "output_type": "stream",
     "text": [
      "C:\\Users\\DELL\\anaconda3\\lib\\site-packages\\scipy\\__init__.py:146: UserWarning: A NumPy version >=1.16.5 and <1.23.0 is required for this version of SciPy (detected version 1.24.3\n",
      "  warnings.warn(f\"A NumPy version >={np_minversion} and <{np_maxversion}\"\n"
     ]
    }
   ],
   "source": [
    "import numpy as np\n",
    "import csv\n",
    "import spacy\n",
    "import string\n",
    "from collections import Counter\n",
    "import random\n",
    "from bs4 import BeautifulSoup\n",
    "import re"
   ]
  },
  {
   "cell_type": "code",
   "execution_count": null,
   "id": "19ae945b",
   "metadata": {},
   "outputs": [],
   "source": []
  },
  {
   "cell_type": "markdown",
   "id": "85cd6d01",
   "metadata": {},
   "source": [
    "## Load the Poetry Corpus"
   ]
  },
  {
   "cell_type": "code",
   "execution_count": 5,
   "id": "a4b174df",
   "metadata": {},
   "outputs": [],
   "source": [
    "# with open('corpus.txt', 'rt', encoding=\"utf-8\") as f:\n",
    "#     reader = csv.reader(f)\n",
    "#     poetry = list(reader)\n",
    "# f.close()\n",
    "with open(r'D:\\Semester VI\\NLP\\i212719_Scrapy\\urdupoems\\poet_poems.csv', 'rt', encoding=\"utf-8\") as f:\n",
    "    reader = csv.reader(f)\n",
    "    next(reader)\n",
    "#     poetry = list(reader)\n",
    "    poetry = [row[1] for row in reader]\n",
    "\n",
    "f.close()"
   ]
  },
  {
   "cell_type": "code",
   "execution_count": 6,
   "id": "3e393103",
   "metadata": {},
   "outputs": [
    {
     "data": {
      "text/plain": [
       "27104"
      ]
     },
     "execution_count": 6,
     "metadata": {},
     "output_type": "execute_result"
    }
   ],
   "source": [
    "len(poetry)"
   ]
  },
  {
   "cell_type": "code",
   "execution_count": 7,
   "id": "20cc3892",
   "metadata": {},
   "outputs": [
    {
     "data": {
      "text/plain": [
       "['آپ  کے  بعد  ہر  گھڑی  ہم  نے  آپ  کے  ساتھ  ہی  گزاری  ہے',\n",
       " 'آپ  کے  بعد  ہر  گھڑی  ہم  نے  آپ  کے  ساتھ  ہی  گزاری  ہے',\n",
       " 'آئنہ  دیکھ  کر  تسلی  ہوئی  ہم  کو  اس  گھر  میں  جانتا  ہے  کوئی',\n",
       " 'آپ  کے  بعد  ہر  گھڑی  ہم  نے  آپ  کے  ساتھ  ہی  گزاری  ہے',\n",
       " 'آئنہ  دیکھ  کر  تسلی  ہوئی  ہم  کو  اس  گھر  میں  جانتا  ہے  کوئی',\n",
       " 'زندگی  یوں  ہوئی  بسر  تنہا  قافلہ  ساتھ  اور  سفر  تنہا',\n",
       " 'آپ  کے  بعد  ہر  گھڑی  ہم  نے  آپ  کے  ساتھ  ہی  گزاری  ہے',\n",
       " 'آئنہ  دیکھ  کر  تسلی  ہوئی  ہم  کو  اس  گھر  میں  جانتا  ہے  کوئی',\n",
       " 'زندگی  یوں  ہوئی  بسر  تنہا  قافلہ  ساتھ  اور  سفر  تنہا',\n",
       " 'شام  سے  آنکھ  میں  نمی  سی  ہے  آج  پھر  آپ  کی  کمی  سی  ہے']"
      ]
     },
     "execution_count": 7,
     "metadata": {},
     "output_type": "execute_result"
    }
   ],
   "source": [
    "poetry[:10]"
   ]
  },
  {
   "cell_type": "code",
   "execution_count": null,
   "id": "56185ca4",
   "metadata": {},
   "outputs": [],
   "source": []
  },
  {
   "cell_type": "markdown",
   "id": "107ae43b",
   "metadata": {},
   "source": [
    "# Basic Preprocessing"
   ]
  },
  {
   "cell_type": "code",
   "execution_count": 8,
   "id": "846f34bc",
   "metadata": {},
   "outputs": [],
   "source": [
    "def remove_duplicates(poetry):\n",
    "    unique_sentences = []\n",
    "    seen = set()\n",
    "    for sentence in poetry:\n",
    "        if sentence not in seen:\n",
    "            unique_sentences.append(sentence)\n",
    "            seen.add(sentence)\n",
    "    return unique_sentences"
   ]
  },
  {
   "cell_type": "code",
   "execution_count": 9,
   "id": "76eb0d94",
   "metadata": {},
   "outputs": [],
   "source": [
    "# basic_pp_sent = basic_preprocessing(poetryy)\n",
    "no_dupes = remove_duplicates(poetry)"
   ]
  },
  {
   "cell_type": "code",
   "execution_count": 10,
   "id": "71a6ffbf",
   "metadata": {},
   "outputs": [
    {
     "data": {
      "text/plain": [
       "1227"
      ]
     },
     "execution_count": 10,
     "metadata": {},
     "output_type": "execute_result"
    }
   ],
   "source": [
    "len(no_dupes)"
   ]
  },
  {
   "cell_type": "code",
   "execution_count": 11,
   "id": "aef5086a",
   "metadata": {},
   "outputs": [],
   "source": [
    "poetryy = []\n",
    "for sentence in no_dupes:\n",
    "    if sentence:\n",
    "        sentence_list = [sentence]\n",
    "    else:\n",
    "        sentence_list = []\n",
    "    poetryy.append(sentence_list)"
   ]
  },
  {
   "cell_type": "code",
   "execution_count": 12,
   "id": "f5324bcf",
   "metadata": {},
   "outputs": [
    {
     "data": {
      "text/plain": [
       "1227"
      ]
     },
     "execution_count": 12,
     "metadata": {},
     "output_type": "execute_result"
    }
   ],
   "source": [
    "len(poetryy)"
   ]
  },
  {
   "cell_type": "code",
   "execution_count": 13,
   "id": "e45d262a",
   "metadata": {},
   "outputs": [
    {
     "data": {
      "text/plain": [
       "[['آپ  کے  بعد  ہر  گھڑی  ہم  نے  آپ  کے  ساتھ  ہی  گزاری  ہے'],\n",
       " ['آئنہ  دیکھ  کر  تسلی  ہوئی  ہم  کو  اس  گھر  میں  جانتا  ہے  کوئی'],\n",
       " ['زندگی  یوں  ہوئی  بسر  تنہا  قافلہ  ساتھ  اور  سفر  تنہا'],\n",
       " ['شام  سے  آنکھ  میں  نمی  سی  ہے  آج  پھر  آپ  کی  کمی  سی  ہے'],\n",
       " ['کبھی  تو  چونک  کے  دیکھے  کوئی  ہماری  طرف  کسی  کی  آنکھ  میں  ہم  کو  بھی  انتظار  دکھے'],\n",
       " ['وقت  رہتا  نہیں  کہیں  ٹک  کر  عادت  اس  کی  بھی  آدمی  سی  ہے'],\n",
       " ['کتنی  لمبی  خاموشی  سے  گزرا  ہوں  ان  سے  کتنا  کچھ  کہنے  کی  کوشش  کی'],\n",
       " ['عادتاً  تم  نے  کر  دیے  وعدے  عادتاً  ہم  نے  اعتبار  کیا'],\n",
       " ['جس  کی  آنکھوں  میں  کٹی  تھیں  صدیاں  اس  نے  صدیوں  کی  جدائی  دی  ہے'],\n",
       " ['کوئی  خاموش  زخم  لگتی  ہے  زندگی  ایک  نظم  لگتی  ہے']]"
      ]
     },
     "execution_count": 13,
     "metadata": {},
     "output_type": "execute_result"
    }
   ],
   "source": [
    "poetryy[:10]"
   ]
  },
  {
   "cell_type": "code",
   "execution_count": null,
   "id": "71ddaf79",
   "metadata": {},
   "outputs": [],
   "source": []
  },
  {
   "cell_type": "markdown",
   "id": "bf2ea3a3",
   "metadata": {},
   "source": [
    "## Tokenize the corpus in order to split it into a list of words"
   ]
  },
  {
   "cell_type": "code",
   "execution_count": 14,
   "id": "1f43fdf6",
   "metadata": {},
   "outputs": [],
   "source": [
    "corpus = []\n",
    "startingWords = []\n",
    "endingWords = []\n",
    "punctuation = string.punctuation\n",
    "\n",
    "for poem in poetryy:\n",
    "    for line in poem:\n",
    "        lineToken = line.split()\n",
    "        if(lineToken):\n",
    "            startingWords.append(lineToken[0])\n",
    "            endingWords.append(lineToken[-1])\n",
    "        for word in lineToken:\n",
    "            w = word.strip(punctuation)\n",
    "            if (w == '’’' or w == '‘‘'):\n",
    "                w = -1\n",
    "            else:\n",
    "                corpus.append(w)"
   ]
  },
  {
   "cell_type": "code",
   "execution_count": 15,
   "id": "c7910e0c",
   "metadata": {},
   "outputs": [
    {
     "name": "stdout",
     "output_type": "stream",
     "text": [
      "Length of Corpus:  21783\n",
      "['آپ', 'کے', 'بعد', 'ہر', 'گھڑی', 'ہم', 'نے', 'آپ', 'کے', 'ساتھ']\n"
     ]
    }
   ],
   "source": [
    "print(\"Length of Corpus: \", len(corpus))\n",
    "print(corpus[:10])"
   ]
  },
  {
   "cell_type": "code",
   "execution_count": null,
   "id": "acbe49e6",
   "metadata": {},
   "outputs": [],
   "source": []
  },
  {
   "cell_type": "markdown",
   "id": "248700ac",
   "metadata": {},
   "source": [
    "## Generate n-gram models"
   ]
  },
  {
   "cell_type": "code",
   "execution_count": null,
   "id": "08497861",
   "metadata": {},
   "outputs": [],
   "source": []
  },
  {
   "cell_type": "markdown",
   "id": "7602515c",
   "metadata": {},
   "source": [
    "### Unigram"
   ]
  },
  {
   "cell_type": "code",
   "execution_count": 16,
   "id": "ee720273",
   "metadata": {},
   "outputs": [],
   "source": [
    "def Unigram(corpus):\n",
    "    freqDistribution = {}\n",
    "    unigramProb = {}\n",
    "    for token in corpus:\n",
    "        if token in freqDistribution:\n",
    "            freqDistribution[token] += 1\n",
    "        else:\n",
    "            freqDistribution[token] = 1 \n",
    "\n",
    "    for i, f in freqDistribution.items():\n",
    "        unigramProb[i] = f / len(corpus)\n",
    "        \n",
    "    return  freqDistribution, unigramProb"
   ]
  },
  {
   "cell_type": "code",
   "execution_count": 17,
   "id": "95c2ce06",
   "metadata": {},
   "outputs": [],
   "source": [
    "wordFreq, uniProb = Unigram(corpus)"
   ]
  },
  {
   "cell_type": "code",
   "execution_count": 18,
   "id": "cff11e05",
   "metadata": {},
   "outputs": [],
   "source": [
    "# print(\"wordFreq\",wordFreq)"
   ]
  },
  {
   "cell_type": "code",
   "execution_count": 19,
   "id": "2701be53",
   "metadata": {},
   "outputs": [],
   "source": [
    "# print(\"uniProb\",uniProb[:10])"
   ]
  },
  {
   "cell_type": "code",
   "execution_count": null,
   "id": "f249fc79",
   "metadata": {},
   "outputs": [],
   "source": []
  },
  {
   "cell_type": "markdown",
   "id": "3e704ee6",
   "metadata": {},
   "source": [
    "### Bigram"
   ]
  },
  {
   "cell_type": "code",
   "execution_count": 20,
   "id": "c2971801",
   "metadata": {},
   "outputs": [],
   "source": [
    "def Bigram(corpus, freq):\n",
    "    bigrams = []\n",
    "    bigramProb={}\n",
    "    for i in range(0, len(corpus) - 1):\n",
    "        bigrams.append((corpus[i], corpus[i+1]))\n",
    "        \n",
    "    freqDistribution=Counter(bigrams)\n",
    "\n",
    "    for b, bf in freqDistribution.items():\n",
    "        bigramProb[b]= bf / freq[(b[0])]\n",
    "  \n",
    "    return freqDistribution, bigramProb"
   ]
  },
  {
   "cell_type": "code",
   "execution_count": 21,
   "id": "63a42d53",
   "metadata": {},
   "outputs": [],
   "source": [
    "BwordFreq, biProb = Bigram(corpus, wordFreq)"
   ]
  },
  {
   "cell_type": "code",
   "execution_count": 22,
   "id": "1d205668",
   "metadata": {},
   "outputs": [],
   "source": [
    "# print(\"BwordFreq\",BwordFreq)"
   ]
  },
  {
   "cell_type": "code",
   "execution_count": 23,
   "id": "d2f9f0fa",
   "metadata": {},
   "outputs": [],
   "source": [
    "# print(\"biProb\", biProb)"
   ]
  },
  {
   "cell_type": "code",
   "execution_count": null,
   "id": "ff16cf71",
   "metadata": {},
   "outputs": [],
   "source": []
  },
  {
   "cell_type": "markdown",
   "id": "99531d2d",
   "metadata": {},
   "source": [
    "### Trigram"
   ]
  },
  {
   "cell_type": "code",
   "execution_count": 24,
   "id": "fce92204",
   "metadata": {},
   "outputs": [],
   "source": [
    "def Trigram(corpus, BwordFreq):\n",
    "    trigrams = []\n",
    "    trigramProb={}\n",
    "    for i in range(0, len(corpus) - 2):\n",
    "        trigrams.append((corpus[i], corpus[i+1], corpus[i+2]))\n",
    "        \n",
    "    freqDistribution=Counter(trigrams)\n",
    "\n",
    "    for t, tf in freqDistribution.items():\n",
    "        trigramProb[t]= tf / BwordFreq[ (t[0], t[1]) ]\n",
    "  \n",
    "    return  freqDistribution, trigramProb"
   ]
  },
  {
   "cell_type": "code",
   "execution_count": 25,
   "id": "3de503cd",
   "metadata": {},
   "outputs": [],
   "source": [
    "TwordFreq, triProb= Trigram(corpus, BwordFreq)"
   ]
  },
  {
   "cell_type": "code",
   "execution_count": 26,
   "id": "5f60de85",
   "metadata": {},
   "outputs": [],
   "source": [
    "# print(\"TwordFreq\", TwordFreq)"
   ]
  },
  {
   "cell_type": "code",
   "execution_count": 27,
   "id": "2aea5f8d",
   "metadata": {},
   "outputs": [],
   "source": [
    "# print(\"triProb\", triProb[:10])"
   ]
  },
  {
   "cell_type": "code",
   "execution_count": null,
   "id": "09debf23",
   "metadata": {},
   "outputs": [],
   "source": []
  },
  {
   "cell_type": "markdown",
   "id": "ae68d62b",
   "metadata": {},
   "source": [
    "### Algo\n",
    "    # For each of the stanzas\n",
    "        # For each verse\n",
    "            # Generate a random number in the range [7...10]\n",
    "            # Select first word\n",
    "            # Select subsequent words until end of verse\n",
    "            #[bonus]If not the first verse, try to rhyme the last word with the last word of the previous verse\n",
    "            # Print verse\n",
    "    # Print empty line after stanza"
   ]
  },
  {
   "cell_type": "code",
   "execution_count": null,
   "id": "2929dc9c",
   "metadata": {},
   "outputs": [],
   "source": []
  },
  {
   "cell_type": "markdown",
   "id": "63a995ad",
   "metadata": {},
   "source": [
    "### CFD -> next word with highest prob"
   ]
  },
  {
   "cell_type": "code",
   "execution_count": 28,
   "id": "ebffb4c3",
   "metadata": {},
   "outputs": [],
   "source": [
    "def NextWordGenerator(clause, probs): \n",
    "    maxP= -999\n",
    "    for i in probs: \n",
    "        if i[0] == clause:\n",
    "            if probs[i] > maxP:\n",
    "                maxP = probs[i]\n",
    "                nextWord = i\n",
    "    return nextWord, maxP"
   ]
  },
  {
   "cell_type": "code",
   "execution_count": null,
   "id": "d7a7f1a8",
   "metadata": {},
   "outputs": [],
   "source": []
  },
  {
   "cell_type": "markdown",
   "id": "bf6c8b0c",
   "metadata": {},
   "source": [
    "### Poem generation"
   ]
  },
  {
   "cell_type": "code",
   "execution_count": 29,
   "id": "e7e1e8a6",
   "metadata": {},
   "outputs": [],
   "source": [
    "def generate_verse(startingWords, endingWords, NextWordGenerator, triProb, previous_rhyme=None):\n",
    "    verse = []\n",
    "    verse_length = random.randint(7, 10)\n",
    "    prompt = random.choice(startingWords)\n",
    "    verse.append(prompt)\n",
    "    \n",
    "    for _ in range(verse_length - 1):  # -1 -> first word exists \n",
    "        nextWord = verse[-1]\n",
    "        K, maxP = NextWordGenerator(nextWord, triProb)\n",
    "        verse.append(K[1])\n",
    "        \n",
    "    # rhyming bonus\n",
    "    if previous_rhyme is not None:\n",
    "        rhyming_words = [word for word in endingWords if word.endswith(previous_rhyme[-1])]\n",
    "        if rhyming_words:\n",
    "            rhyme_word = random.choice(rhyming_words)\n",
    "            verse[-1] = rhyme_word\n",
    "    return verse\n",
    "\n",
    "# Stores last word of each verse for rhyming in the next verse\n",
    "def generate_poem(startingWords, endingWords, NextWordGenerator, triProb):\n",
    "    num_stanzas = 4\n",
    "    lines_per_stanza = 4\n",
    "    previous_rhyme = None\n",
    "    for stanza in range(num_stanzas):\n",
    "        for verse_num in range(lines_per_stanza):\n",
    "            verse = generate_verse(startingWords, endingWords, NextWordGenerator, triProb, previous_rhyme)\n",
    "            print(' '.join(verse))\n",
    "            previous_rhyme = verse[-1].split()[-1]\n",
    "        print()  "
   ]
  },
  {
   "cell_type": "code",
   "execution_count": 30,
   "id": "61546a49",
   "metadata": {},
   "outputs": [],
   "source": [
    "noOflines = 4"
   ]
  },
  {
   "cell_type": "code",
   "execution_count": null,
   "id": "74681a1a",
   "metadata": {},
   "outputs": [],
   "source": []
  },
  {
   "cell_type": "markdown",
   "id": "c7dd6de3",
   "metadata": {},
   "source": [
    "#### Bigram vs Trigram performance"
   ]
  },
  {
   "cell_type": "code",
   "execution_count": 31,
   "id": "de5b0147",
   "metadata": {},
   "outputs": [
    {
     "name": "stdout",
     "output_type": "stream",
     "text": [
      "یہ کیا ہے کہ اس کے لیے آ کر\n",
      "وہ بھی نہیں ہے کہ اس کے پر\n",
      "غم کی طرح سے بھی نہیں ہے بھر\n",
      "یہ کیا ہے کہ اس کے لیے کر\n",
      "\n",
      "یہ کیا ہے کہ اس کے لیے بھر\n",
      "شاخ سے بھی نہیں ہے کہ کر\n",
      "جدائیوں کے لیے آ کر بھی نہیں ہے کہ کر\n",
      "روز اک عمر بھر نہ ہو گیا ہوں پر\n",
      "\n",
      "سارے زمانے میں بھی نہیں ہے کر\n",
      "اپنی جگہ اس کے لیے آ کر کر\n",
      "ہاں ٹھیک ہے کہ اس کے لیے آ کر\n",
      "میں بھی نہیں ہے کہ اس کے لیے پر\n",
      "\n",
      "اک عمر بھر نہ ہو گیا ہوں میں بھی اسٹار\n",
      "ہم نے کیا ہے کہ اس کے لیے کر\n",
      "بادباں ناز اہل نظر کو بھی نہیں ہے کہ کر\n",
      "مائیں دروازوں پر نہیں ہے کہ اس بھر\n",
      "\n"
     ]
    }
   ],
   "source": [
    "generate_poem(startingWords, endingWords, NextWordGenerator, biProb)"
   ]
  },
  {
   "cell_type": "code",
   "execution_count": 32,
   "id": "46f26243",
   "metadata": {},
   "outputs": [
    {
     "name": "stdout",
     "output_type": "stream",
     "text": [
      "دوست زمیں سے آنکھ رکھتے ہو سکتا جب\n",
      "تھا آج پھر آپ حاصل بھی ادب\n",
      "بکھیرتے رہو زباں کی آنکھ رکھتے ہو سکتا لب\n",
      "ان تک کہ مرے قاتل نہ اے سبب\n",
      "\n",
      "سلوٹیں ہیں سزائیں بھیج دی ہم احباب\n",
      "دل اداس ہوتا یادوں کی آنکھ رکھتے ہو انقلاب\n",
      "علاج یہ روز گئی بات چھیڑ دیتی ہے آئنہ احباب\n",
      "سب خواہشیں پوری ہوں ان تک کہ سبب\n",
      "\n",
      "اب اٹھتا نہیں کہیں ٹک کر تسلی احباب\n",
      "طلسم تھا آج پھر آپ حاصل بھی انتظار ادب\n",
      "وہ جا رہا وگرنہ زندگی یوں ہوئی ہم آنکھیں سبب\n",
      "جدا ہوئے ہوتے تھے زمانے میرے زندگی ادب\n",
      "\n",
      "دل اداس ہوتا یادوں کی آنکھ رکھتے انقلاب\n",
      "میں جانتا ہی گزاری نہ اے احباب\n",
      "وہی انداز ہے آئنہ دیکھ بھال کرے ادب\n",
      "یہ روز گئی بات چھیڑ دیتی ہے انقلاب\n",
      "\n"
     ]
    }
   ],
   "source": [
    "generate_poem(startingWords, endingWords, NextWordGenerator, triProb)"
   ]
  },
  {
   "cell_type": "code",
   "execution_count": 33,
   "id": "6a69e92f",
   "metadata": {},
   "outputs": [],
   "source": [
    "# trigram wins here "
   ]
  },
  {
   "cell_type": "code",
   "execution_count": null,
   "id": "ee2e4e4c",
   "metadata": {},
   "outputs": [],
   "source": []
  },
  {
   "cell_type": "markdown",
   "id": "b990875d",
   "metadata": {},
   "source": [
    "# Making sonnet rhyme"
   ]
  },
  {
   "cell_type": "code",
   "execution_count": 34,
   "id": "40e6ddc4",
   "metadata": {},
   "outputs": [],
   "source": [
    "def generate_verse1(startingWords, endingWords, NextWordGenerator, triProb, previous_rhyme=None, rhyme_scheme=None):\n",
    "    verse = []\n",
    "    verse_length = random.randint(7, 10)  \n",
    "    prompt = random.choice(startingWords)\n",
    "    verse.append(prompt)\n",
    "    for _ in range(verse_length - 1): \n",
    "        nextWord = verse[-1]\n",
    "        K, maxP = NextWordGenerator(nextWord, triProb)\n",
    "        verse.append(K[1])\n",
    "\n",
    "    if previous_rhyme is not None:\n",
    "        rhyming_words = [word for word in endingWords if word.endswith(previous_rhyme[-1])]\n",
    "        if rhyming_words:\n",
    "            rhyme_word = random.choice(rhyming_words)\n",
    "            verse[-1] = rhyme_word\n",
    "    return verse\n",
    "\n",
    "# stanza rhymes \n",
    "def generate_stanza1(startingWords, endingWords, NextWordGenerator, triProb, rhyme_scheme):\n",
    "    stanza = []\n",
    "    for rhyme_type in rhyme_scheme:\n",
    "        verse = generate_verse1(startingWords, endingWords, NextWordGenerator, triProb, previous_rhyme=stanza[-1] if stanza else None)\n",
    "        stanza.append(verse)\n",
    "    return stanza\n",
    "\n",
    "def generate_poem1(startingWords, endingWords, NextWordGenerator, triProb, rhyme_scheme):\n",
    "    num_stanzas = 4\n",
    "    lines_per_stanza = len(rhyme_scheme)\n",
    "    \n",
    "    # sonnet -> line 1 & 3 AND line 2 & 4\n",
    "    for _ in range(num_stanzas):\n",
    "        for i in range(lines_per_stanza):\n",
    "            if i % 2 == 0: \n",
    "                rhyme_type = 'A'\n",
    "            else: \n",
    "                rhyme_type = 'B'\n",
    "            \n",
    "            verse = generate_verse1(startingWords, endingWords, NextWordGenerator, triProb, previous_rhyme=None, rhyme_scheme=rhyme_scheme)\n",
    "            print(' '.join(verse))\n",
    "            if i == lines_per_stanza - 1:\n",
    "                print() "
   ]
  },
  {
   "cell_type": "code",
   "execution_count": null,
   "id": "09c36e7e",
   "metadata": {},
   "outputs": [],
   "source": []
  },
  {
   "cell_type": "markdown",
   "id": "d6ee28d6",
   "metadata": {},
   "source": [
    "#### Bigram vs Trigram performance"
   ]
  },
  {
   "cell_type": "code",
   "execution_count": 40,
   "id": "1764c651",
   "metadata": {},
   "outputs": [
    {
     "name": "stdout",
     "output_type": "stream",
     "text": [
      "مدتیں ہو گیا ہوں میں بھی نہیں\n",
      "سو سو سو سو سو سو سو سو\n",
      "تیرا نام سے بھی نہیں ہے کہ اس کے\n",
      "خواہشیں پوری ہوں میں بھی نہیں ہے کہ\n",
      "\n",
      "جس کے لیے آ کر بھی نہیں ہے کہ\n",
      "تم نے کیا ہے کہ اس کے لیے\n",
      "کتاب اور بھی نہیں ہے کہ اس\n",
      "کچھ اور بھی نہیں ہے کہ اس کے\n",
      "\n",
      "شعورؔ تم نے کیا ہے کہ اس کے\n",
      "میں بھی نہیں ہے کہ اس کے لیے\n",
      "مر جائیں ہم نے کیا ہے کہ اس\n",
      "الگ بات نہیں ہے کہ اس کے\n",
      "\n",
      "نہ ہو گیا ہوں میں بھی نہیں ہے کہ\n",
      "اک عمر بھر نہ ہو گیا ہوں میں بھی نہیں\n",
      "دل کو بھی نہیں ہے کہ اس\n",
      "زمانہ بہت دیر تک کوئی ہم نے\n",
      "\n"
     ]
    }
   ],
   "source": [
    "rhyme_scheme = [\"A\" , \"B\", \"A\", \"B\"]\n",
    "generate_poem1(startingWords, endingWords, NextWordGenerator, biProb, rhyme_scheme)"
   ]
  },
  {
   "cell_type": "code",
   "execution_count": 41,
   "id": "719d551e",
   "metadata": {},
   "outputs": [
    {
     "name": "stdout",
     "output_type": "stream",
     "text": [
      "کبھی جو شرابوں میں جانتا ہی گزاری نہ\n",
      "دعائیں یاد بے حساب آج پھر آپ حاصل بھی\n",
      "کون آ نکلا ہے آئنہ دیکھ بھال کرے درد اے\n",
      "اس زندگی یوں ہوئی ہم آنکھیں ابر تو\n",
      "\n",
      "نئے حادثے پہ بھروسہ بھی انتظار دکھے وقت رہتا\n",
      "اے کاش خوشبو جیسے لوگ ملے افسانے میں\n",
      "بھول جاؤ سب خواہشیں پوری ہوں ان تک\n",
      "کچھ ہم آنکھیں ابر تو چونک کے دیکھے کوئی\n",
      "\n",
      "صرف ہاتھوں کو پگھلائیں تو چونک کے دیکھے کوئی\n",
      "ایک نظم لگتی ہیں سزائیں بھیج دی ہم آنکھیں\n",
      "نہ اے کاش خوشبو جیسے لوگ ملے افسانے میں جانتا\n",
      "ڈھونڈتا پھرتا ہے آئنہ دیکھ بھال کرے درد اے کاش\n",
      "\n",
      "یوں ہوئی ہم آنکھیں ابر تو چونک کے\n",
      "کچھ ہم آنکھیں ابر تو چونک کے دیکھے کوئی\n",
      "میں جانتا ہی گزاری نہ اے کاش خوشبو جیسے\n",
      "پہلے پہلے پہلے پہلے پہلے پہلے پہلے پہلے\n",
      "\n"
     ]
    }
   ],
   "source": [
    "rhyme_scheme = [\"A\" , \"B\", \"A\", \"B\"]\n",
    "generate_poem1(startingWords, endingWords, NextWordGenerator, triProb, rhyme_scheme)"
   ]
  },
  {
   "cell_type": "code",
   "execution_count": 42,
   "id": "d3e8d5da",
   "metadata": {},
   "outputs": [],
   "source": [
    "# !pip install pronouncing"
   ]
  },
  {
   "cell_type": "code",
   "execution_count": null,
   "id": "ce4f73fd",
   "metadata": {},
   "outputs": [],
   "source": []
  },
  {
   "cell_type": "code",
   "execution_count": 43,
   "id": "be2c69b4",
   "metadata": {},
   "outputs": [],
   "source": [
    "# no 2 grams occurr together"
   ]
  },
  {
   "cell_type": "code",
   "execution_count": 44,
   "id": "8ff18819",
   "metadata": {},
   "outputs": [],
   "source": [
    "def generate_verse2(startingWords, endingWords, NextWordGenerator, triProb, previous_rhyme=None, rhyme_scheme=None):\n",
    "    verse = []\n",
    "    verse_length = random.randint(7, 10) \n",
    "    prompt = random.choice(startingWords)\n",
    "    verse.append(prompt)\n",
    "    \n",
    "    last_trigrams = [None, None]\n",
    "    \n",
    "    for _ in range(verse_length - 1):\n",
    "        nextWord = verse[-1]\n",
    "        \n",
    "        # next word + geam \n",
    "        K, maxP = NextWordGenerator(nextWord, triProb)\n",
    "        next_word = K[1]\n",
    "        next_trigram = ' '.join([verse[-1]] + [next_word])\n",
    "        \n",
    "        attempts = 0\n",
    "        max_attempts = 5  \n",
    "        \n",
    "        while next_trigram in last_trigrams and attempts < max_attempts:\n",
    "            K, maxP = NextWordGenerator(nextWord, triProb)\n",
    "            next_word = K[1]\n",
    "            next_trigram = ' '.join([verse[-1]] + [next_word])\n",
    "            attempts += 1\n",
    "        \n",
    "        # checks 5 times for unique gram, if its not found, orignal hi daldo\n",
    "        if attempts == max_attempts:\n",
    "            next_word = K[1] \n",
    "        \n",
    "        # update the last two grams and remove the oldest\n",
    "        verse.append(next_word)\n",
    "        last_trigrams.append(next_trigram)\n",
    "        last_trigrams.pop(0) \n",
    "        \n",
    "    # Bonus\n",
    "    if previous_rhyme is not None:\n",
    "        rhyming_words = [word for word in endingWords if word.endswith(previous_rhyme[-1])]\n",
    "        if rhyming_words:\n",
    "            rhyme_word = random.choice(rhyming_words)\n",
    "            verse[-1] = rhyme_word\n",
    "            \n",
    "    return verse\n",
    "\n",
    "def generate_poem2(startingWords, endingWords, NextWordGenerator, triProb):\n",
    "    num_stanzas = 4\n",
    "    \n",
    "    # Rhyme scheme of sonnet\n",
    "    rhyme_scheme = ['ABAB'] * 3 + ['AAAA']\n",
    "    \n",
    "    for stanza_index in range(num_stanzas):\n",
    "        lines_per_stanza = len(rhyme_scheme[stanza_index])\n",
    "        \n",
    "        for line_index in range(lines_per_stanza):\n",
    "            rhyme_type = rhyme_scheme[stanza_index][line_index]\n",
    "            \n",
    "            verse = generate_verse2(startingWords, endingWords, NextWordGenerator, triProb, previous_rhyme=None, rhyme_scheme=rhyme_type)\n",
    "            print(' '.join(verse))\n",
    "        \n",
    "        if stanza_index < num_stanzas - 1:\n",
    "            print()"
   ]
  },
  {
   "cell_type": "code",
   "execution_count": null,
   "id": "60b2a175",
   "metadata": {},
   "outputs": [],
   "source": []
  },
  {
   "cell_type": "markdown",
   "id": "aadf6ee2",
   "metadata": {},
   "source": [
    "#### Bigram vs Trigram performance"
   ]
  },
  {
   "cell_type": "code",
   "execution_count": 49,
   "id": "feb38491",
   "metadata": {},
   "outputs": [
    {
     "name": "stdout",
     "output_type": "stream",
     "text": [
      "اس کے لیے آ کر بھی نہیں ہے کہ\n",
      "اب تک کوئی ہم نے کیا ہے\n",
      "دشت ہستی میں بھی نہیں ہے کہ اس کے لیے\n",
      "جس کے لیے آ کر بھی نہیں ہے\n",
      "\n",
      "آئین جواں مرداں حق ادا کہتی ہے کہ اس\n",
      "یار نے کیا ہے کہ اس کے لیے آ کر\n",
      "جس کے لیے آ کر بھی نہیں ہے\n",
      "وہ بھی نہیں ہے کہ اس کے لیے آ کر\n",
      "\n",
      "بند کلیوں کی طرح سے بھی نہیں ہے کہ\n",
      "لوگ کہتے ہیں کہ اس کے لیے\n",
      "کسی کو بھی نہیں ہے کہ اس\n",
      "اس کے لیے آ کر بھی نہیں ہے\n",
      "\n",
      "بہروپ نہیں ہے کہ اس کے لیے\n",
      "کون سی بات نہیں ہے کہ اس\n",
      "پھر بھی نہیں ہے کہ اس کے\n",
      "مجھے تو نے کیا ہے کہ اس کے لیے\n"
     ]
    }
   ],
   "source": [
    "generate_poem2(startingWords, endingWords, NextWordGenerator, biProb)"
   ]
  },
  {
   "cell_type": "code",
   "execution_count": 52,
   "id": "1ef2f428",
   "metadata": {},
   "outputs": [
    {
     "name": "stdout",
     "output_type": "stream",
     "text": [
      "عبرت آباد بھی انتظار دکھے وقت رہتا تم\n",
      "ایک نظم لگتی ہیں سزائیں بھیج دی ہم آنکھیں ابر\n",
      "سر بسر تنہا قافلہ ساتھ ہی گزاری نہ اے کاش\n",
      "کڑا ہے آئنہ دیکھ بھال کرے درد\n",
      "\n",
      "جانتا ہی گزاری نہ اے کاش خوشبو\n",
      "مے پی ہے آئنہ دیکھ بھال کرے درد اے\n",
      "تو چونک کے دیکھے کوئی خاموش زخم لگتی ہیں\n",
      "بھری بہار پیلے پتے تلاش کرتی تھی\n",
      "\n",
      "بے حساب آج پھر آپ حاصل بھی انتظار دکھے وقت\n",
      "اس زندگی یوں ہوئی ہم آنکھیں ابر تو\n",
      "بلاؤں گا وقت رہتا تم تکلف کو\n",
      "ہر واقعہ تمہارا تھا آج پھر آپ\n",
      "\n",
      "حق گوئی و لب یقیں آیا تب ماضی\n",
      "رنگ حنا کا ہر واقعہ تمہارا تھا آج\n",
      "ساقی تلخیٔ مے پی ہے آئنہ دیکھ بھال کرے درد\n",
      "آج پھر آپ حاصل بھی انتظار دکھے\n"
     ]
    }
   ],
   "source": [
    "generate_poem2(startingWords, endingWords, NextWordGenerator, triProb)"
   ]
  },
  {
   "cell_type": "code",
   "execution_count": null,
   "id": "72ea93c8",
   "metadata": {},
   "outputs": [],
   "source": []
  },
  {
   "cell_type": "markdown",
   "id": "e208f60c",
   "metadata": {},
   "source": [
    "## Backward bigram model\n",
    "model the generation of a sentence from right to left"
   ]
  },
  {
   "cell_type": "code",
   "execution_count": 53,
   "id": "30785456",
   "metadata": {},
   "outputs": [],
   "source": [
    "def NextWordGenerator1(clause, probs): \n",
    "    maxP = -999\n",
    "    for i in probs: \n",
    "        if i[0] == clause:\n",
    "            if probs[i] > maxP:\n",
    "                maxP = probs[i]\n",
    "                nextWord = i\n",
    "    return [nextWord[1]], [maxP]"
   ]
  },
  {
   "cell_type": "code",
   "execution_count": 54,
   "id": "920552d9",
   "metadata": {},
   "outputs": [],
   "source": [
    "def generate_verse3_BB(startingWords, endingWords, NextWordGenerator1, triProb, previous_rhyme=None):\n",
    "    while True:\n",
    "        verse = []\n",
    "        verse_length = random.randint(7, 10) \n",
    "        prompt = random.choice(startingWords)\n",
    "        verse.append(prompt)\n",
    "        \n",
    "        while len(verse) < verse_length:\n",
    "            nextWord = verse[-1]\n",
    "            nextWords, probabilities = NextWordGenerator1(nextWord, triProb)\n",
    "            # nextWord is not repeated, if not available, brk \n",
    "            available_words = [word for word in nextWords if word not in verse]\n",
    "            if available_words:\n",
    "                nextWord = random.choices(available_words, weights=probabilities)[0]\n",
    "            else:\n",
    "                break\n",
    "            verse.append(nextWord)\n",
    "            \n",
    "        # Bonus\n",
    "        if previous_rhyme is not None:\n",
    "            rhyming_words = [word for word in endingWords if word.endswith(previous_rhyme[-1])]\n",
    "            if rhyming_words:\n",
    "                rhyme_word = random.choice(rhyming_words)\n",
    "                verse[-1] = rhyme_word\n",
    "                \n",
    "        if len(verse) >= 7 and len(verse) <= 10:\n",
    "            break\n",
    "    return verse\n",
    "\n",
    "def generate_poem3_BB(startingWords, endingWords, NextWordGenerator1, triProb):\n",
    "    num_stanzas = 4\n",
    "    lines_per_stanza = 4\n",
    "    previous_rhyme = None\n",
    "    for stanza in range(num_stanzas):\n",
    "        for verse_num in range(lines_per_stanza):\n",
    "            verse = generate_verse3_BB(startingWords, endingWords, NextWordGenerator1, triProb, previous_rhyme)\n",
    "            print(' '.join(verse))\n",
    "\n",
    "            previous_rhyme = verse[-1].split()[-1]\n",
    "        print() "
   ]
  },
  {
   "cell_type": "code",
   "execution_count": 55,
   "id": "df484ffa",
   "metadata": {},
   "outputs": [],
   "source": [
    "def BackwardBigram(corpus, freq, smoothing=1):\n",
    "    backwardBigrams = []\n",
    "    backwardBigramProb = {}\n",
    "    \n",
    "    # backward bigrams\n",
    "    for i in range(1, len(corpus)):\n",
    "        backwardBigrams.append((corpus[i], corpus[i-1]))\n",
    "        \n",
    "    # frequency count\n",
    "    backwardBigramFreq = Counter(backwardBigrams)\n",
    "    \n",
    "    # Laplace Smoothing to avoid x/0\n",
    "    for bb, bbf in backwardBigramFreq.items():\n",
    "        word_freq = freq.get(bb[0], 0) \n",
    "\n",
    "        backwardBigramProb[bb] = (bbf + smoothing) / (word_freq + smoothing * len(freq))\n",
    "    \n",
    "    return backwardBigramFreq, backwardBigramProb"
   ]
  },
  {
   "cell_type": "code",
   "execution_count": null,
   "id": "bfd6b691",
   "metadata": {},
   "outputs": [],
   "source": []
  },
  {
   "cell_type": "markdown",
   "id": "4e210598",
   "metadata": {},
   "source": [
    "#### Bigram vs Trigram vs Backward Bigram performance"
   ]
  },
  {
   "cell_type": "markdown",
   "id": "a0dfbc7a",
   "metadata": {},
   "source": [
    "##### Bigram"
   ]
  },
  {
   "cell_type": "code",
   "execution_count": 56,
   "id": "7d3d71fa",
   "metadata": {},
   "outputs": [],
   "source": [
    "BBwordFreq, BBiProb = BackwardBigram(corpus, BwordFreq)"
   ]
  },
  {
   "cell_type": "code",
   "execution_count": 61,
   "id": "f7c849b7",
   "metadata": {},
   "outputs": [
    {
     "name": "stdout",
     "output_type": "stream",
     "text": [
      "ہم ہیں جاتے بھول کو مجھ تو ہے کیا\n",
      "کر دیکھ کو مجھ تو ہے رہنا\n",
      "حق مرداں جواں آئین ہیں جاتے بھول کو ہوتا\n",
      "عمل ہو نہ بھی میں ہوں میرا\n",
      "\n",
      "ہم ہیں جاتے بھول کو مجھ تو ہے مارا\n",
      "ہائے کرو نہ بھی میں ہوں ملا\n",
      "کر دیکھ کو مجھ تو ہے ہمارا\n",
      "شعورؔ گیا ہو نہ بھی میں ہوں آیا\n",
      "\n",
      "مدتیں دوں کر دیکھ کو مجھ تو ہے کا\n",
      "عشق ترے تھا نہ بھی میں ہوں آیا\n",
      "مستقل ہو نہ بھی میں ہوں ہوگا\n",
      "دلوں ہیں جاتے بھول کو مجھ تو ہوگا\n",
      "\n",
      "عجب ہیں جاتے بھول کو مجھ تو ہے گا\n",
      "ہم ہیں جاتے بھول کو مجھ تو ہے گا\n",
      "چاندنی بھر عمر ہیں جاتے بھول کو کیا\n",
      "آئین ہیں جاتے بھول کو مجھ تو ہے تھا\n",
      "\n"
     ]
    }
   ],
   "source": [
    "generate_poem3_BB(startingWords, endingWords, NextWordGenerator1, BBiProb)"
   ]
  },
  {
   "cell_type": "code",
   "execution_count": null,
   "id": "b866ea1b",
   "metadata": {},
   "outputs": [],
   "source": []
  },
  {
   "cell_type": "markdown",
   "id": "9e39d255",
   "metadata": {},
   "source": [
    "##### Trigram"
   ]
  },
  {
   "cell_type": "code",
   "execution_count": 62,
   "id": "785d6182",
   "metadata": {},
   "outputs": [],
   "source": [
    "BTwordFreq, BTiProb = BackwardBigram(corpus, TwordFreq)"
   ]
  },
  {
   "cell_type": "code",
   "execution_count": 69,
   "id": "b0348e68",
   "metadata": {},
   "outputs": [
    {
     "name": "stdout",
     "output_type": "stream",
     "text": [
      "ترے تھا نہ بھی میں ہوں رہا\n",
      "ہم ہیں جاتے بھول کو مجھ تو ہے گیا\n",
      "فیضؔ مقام نہیں بھی میں ہوں جا\n",
      "نشہ لو کر دیکھ کو مجھ تو ہونا\n",
      "\n",
      "ہائے کرو نہ بھی میں ہوں آیا\n",
      "جیسے ہو نہ بھی میں ہوں رہا\n",
      "ستاروں دیکھ کو مجھ تو ہے ہوتا\n",
      "اہل ہم ہیں جاتے بھول کو مجھ جاتا\n",
      "\n",
      "بظاہر سکے نہ بھی میں ہوں گیا\n",
      "مبہم سبب بے کو مجھ تو ہوگا\n",
      "ضبط جیسے ہو نہ بھی میں ہوں تھا\n",
      "بیٹیاں دے کر دیکھ کو مجھ تو ہوگا\n",
      "\n",
      "ستاروں دیکھ کو مجھ تو ہے جاتا\n",
      "موسم گا جائے ہو نہ بھی میں ہوں رکھا\n",
      "اچھوں ہوئے ہوتے کے اس ہے دیکھا\n",
      "یادوں ہوتا نہیں بھی میں ہوں میرا\n",
      "\n"
     ]
    }
   ],
   "source": [
    "generate_poem3_BB(startingWords, endingWords, NextWordGenerator1, BTiProb)"
   ]
  },
  {
   "cell_type": "code",
   "execution_count": 70,
   "id": "d9177220",
   "metadata": {},
   "outputs": [],
   "source": [
    "# backward bigram wins"
   ]
  },
  {
   "cell_type": "code",
   "execution_count": null,
   "id": "e5e857e7",
   "metadata": {},
   "outputs": [],
   "source": []
  },
  {
   "cell_type": "markdown",
   "id": "d4408a4d",
   "metadata": {},
   "source": [
    "## Bidirectional bigram model\n",
    "merge fwd and backward"
   ]
  },
  {
   "cell_type": "code",
   "execution_count": 71,
   "id": "d732e0dc",
   "metadata": {},
   "outputs": [],
   "source": [
    "def generate_verse4(startingWords, endingWords, NextWordGenerator, biProb, BBiProb, previous_rhyme=None):\n",
    "    while True:\n",
    "        verse = []\n",
    "        verse_length = random.randint(7, 10) \n",
    "        prompt = random.choice(startingWords)\n",
    "        verse.append(prompt)\n",
    "        while len(verse) < verse_length:\n",
    "            nextWord = verse[-1]\n",
    "            # forward model\n",
    "            K, maxP = NextWordGenerator(nextWord, biProb)\n",
    "            # backward model\n",
    "            K1, maxP1 = NextWordGenerator(nextWord, BBiProb)\n",
    "            \n",
    "            if maxP > maxP1:\n",
    "                verse.append(K[1])\n",
    "            else:\n",
    "                verse.append(K1[1])\n",
    "        \n",
    "        if previous_rhyme is not None:\n",
    "            rhyming_words = [word for word in endingWords if word.endswith(previous_rhyme[-1])]\n",
    "            if rhyming_words:\n",
    "                rhyme_word = random.choice(rhyming_words)\n",
    "                verse[-1] = rhyme_word\n",
    "        if len(verse) >= 7 and len(verse) <= 10:\n",
    "            break\n",
    "    return verse\n",
    "\n",
    "def generate_poem4(startingWords, endingWords, NextWordGenerator, biProb, BBiProb):\n",
    "    num_stanzas = 4\n",
    "    lines_per_stanza = 4\n",
    "    previous_rhyme = None\n",
    "    for stanza in range(num_stanzas):\n",
    "        for verse_num in range(lines_per_stanza):\n",
    "            verse = generate_verse4(startingWords, endingWords, NextWordGenerator, biProb, BBiProb, previous_rhyme)\n",
    "            print(' '.join(verse))\n",
    "            previous_rhyme = verse[-1].split()[-1]\n",
    "        print() "
   ]
  },
  {
   "cell_type": "code",
   "execution_count": null,
   "id": "c3d2bff5",
   "metadata": {},
   "outputs": [],
   "source": []
  },
  {
   "cell_type": "markdown",
   "id": "c3c934f2",
   "metadata": {},
   "source": [
    "#### Bigram vs Trigram vs Bidirectional Bigram performance"
   ]
  },
  {
   "cell_type": "markdown",
   "id": "6cd00fdb",
   "metadata": {},
   "source": [
    "##### Bigram"
   ]
  },
  {
   "cell_type": "code",
   "execution_count": 80,
   "id": "d08b97a1",
   "metadata": {},
   "outputs": [
    {
     "name": "stdout",
     "output_type": "stream",
     "text": [
      "اک عمر بھر نہ ہو گیا ہوں میں بھی نہیں\n",
      "دعا کے لیے آ کر بھی ہیں\n",
      "انداز سے بھی نہیں ہے کہ اس کے تھیں\n",
      "اک عمر بھر نہ ہو گیا گئیں\n",
      "\n",
      "گھرا ہوا ہے کہ اس کے لیے آ نہیں\n",
      "حد نظر کو بھی نہیں ہے کہ ہیں\n",
      "اے دل کو بھی نہیں ہے کہ کریں\n",
      "ہائے وہ بھی نہیں ہے کہ اس ہیں\n",
      "\n",
      "کمان شاخ سے بھی نہیں ہے کہ جائیں\n",
      "اس کے لیے آ کر بھی نہیں کہاں\n",
      "زندگی بھر نہ ہو گیا ہوں میں بھی ہیں\n",
      "تمام عمر بھر نہ ہو گیا ہوں ہوں\n",
      "\n",
      "تم نے کیا ہے کہ اس میں\n",
      "ہر بات نہیں ہے کہ اس لیں\n",
      "اب تک کوئی ہم نے کیا ہے کہ ہیں\n",
      "اب تک کوئی ہم نے کیا ہے ہوں\n",
      "\n"
     ]
    }
   ],
   "source": [
    "generate_poem4(startingWords, endingWords, NextWordGenerator, biProb, BBiProb)"
   ]
  },
  {
   "cell_type": "code",
   "execution_count": 76,
   "id": "c4fe66c9",
   "metadata": {},
   "outputs": [],
   "source": [
    "# bigram wins"
   ]
  },
  {
   "cell_type": "markdown",
   "id": "cd5b21d7",
   "metadata": {},
   "source": [
    "##### Triigram"
   ]
  },
  {
   "cell_type": "code",
   "execution_count": 82,
   "id": "f195e12a",
   "metadata": {},
   "outputs": [
    {
     "name": "stdout",
     "output_type": "stream",
     "text": [
      "نیندوں میں جانتا ہی گزاری نہ اے\n",
      "چند امیدیں نچوڑی تھیں صدیاں اس زندگی ہے\n",
      "خفا ہے آئنہ دیکھ بھال کرے درد اے کاش آئے\n",
      "لو نشہ بڑھتا ہے آئنہ دیکھ بھال ہے\n",
      "\n",
      "رہنا اکتائے ہوئے ہوتے تھے زمانے جائے\n",
      "یا بدلاؤ سے آنکھ رکھتے ہو دیتے\n",
      "اچھا نہ اے کاش خوشبو جیسے نے\n",
      "بھوک سے آنکھ رکھتے ہو سکتا کہیے\n",
      "\n",
      "مقصد زیست غم دنیا تھی ان تک ہے\n",
      "تمام شہر والوں کو پگھلائیں تو چونک ہے\n",
      "پلٹ سی خاموشی کا ہر واقعہ تمہارا تھا آج سے\n",
      "ایک نظم لگتی ہیں سزائیں بھیج دی ہم آنکھیں ہوتے\n",
      "\n",
      "اور دائرے ہیں سزائیں بھیج دی ہے\n",
      "تکلیف کم نہیں کہیں ٹک کر تسلی ہوئی ہم کرتے\n",
      "کیسے بولیں گے جدائی دی ہم آنکھیں ابر تو ہے\n",
      "جی بھرا سا رہتا تم تکلف چاہئے\n",
      "\n"
     ]
    }
   ],
   "source": [
    "generate_poem4(startingWords, endingWords, NextWordGenerator, triProb, BTiProb)"
   ]
  },
  {
   "cell_type": "code",
   "execution_count": null,
   "id": "a07df4ca",
   "metadata": {},
   "outputs": [],
   "source": []
  },
  {
   "cell_type": "code",
   "execution_count": null,
   "id": "6ab6a3a6",
   "metadata": {},
   "outputs": [],
   "source": []
  }
 ],
 "metadata": {
  "kernelspec": {
   "display_name": "Python 3 (ipykernel)",
   "language": "python",
   "name": "python3"
  },
  "language_info": {
   "codemirror_mode": {
    "name": "ipython",
    "version": 3
   },
   "file_extension": ".py",
   "mimetype": "text/x-python",
   "name": "python",
   "nbconvert_exporter": "python",
   "pygments_lexer": "ipython3",
   "version": "3.9.12"
  }
 },
 "nbformat": 4,
 "nbformat_minor": 5
}
